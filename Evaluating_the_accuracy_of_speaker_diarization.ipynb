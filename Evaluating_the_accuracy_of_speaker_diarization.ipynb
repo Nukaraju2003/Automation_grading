{
  "nbformat": 4,
  "nbformat_minor": 0,
  "metadata": {
    "colab": {
      "provenance": [],
      "authorship_tag": "ABX9TyNHtpno4Xzo1zI90Q913H0b",
      "include_colab_link": true
    },
    "kernelspec": {
      "name": "python3",
      "display_name": "Python 3"
    },
    "language_info": {
      "name": "python"
    }
  },
  "cells": [
    {
      "cell_type": "markdown",
      "metadata": {
        "id": "view-in-github",
        "colab_type": "text"
      },
      "source": [
        "<a href=\"https://colab.research.google.com/github/Nukaraju2003/jyothimam/blob/main/Evaluating_the_accuracy_of_speaker_diarization.ipynb\" target=\"_parent\"><img src=\"https://colab.research.google.com/assets/colab-badge.svg\" alt=\"Open In Colab\"/></a>"
      ]
    },
    {
      "cell_type": "code",
      "source": [
        "from datetime import datetime\n",
        "\n",
        "def time_to_seconds(time_str):\n",
        "    \"\"\"\n",
        "    Convert time in the format '00:00:05.695' to seconds.\n",
        "    \"\"\"\n",
        "    time_format = \"%H:%M:%S.%f\"\n",
        "    time_obj = datetime.strptime(time_str, time_format)\n",
        "    return time_obj.hour * 3600 + time_obj.minute * 60 + time_obj.second + time_obj.microsecond / 1e6\n",
        "\n",
        "def calculate_der(diarization_output, ground_truth):\n",
        "    \"\"\"\n",
        "    Calculate the Diarization Error Rate (DER) for multiple speakers.\n",
        "\n",
        "    Args:\n",
        "    - diarization_output (list): List of tuples representing diarization output.\n",
        "      Each tuple contains (start_time, end_time, predicted_speaker_id).\n",
        "    - ground_truth (list): List of tuples representing ground truth diarization.\n",
        "      Each tuple contains (start_time, end_time, true_speaker_id).\n",
        "\n",
        "    Returns:\n",
        "    - der (float): The Diarization Error Rate (DER) as a percentage.\n",
        "    - der_speakers (dict): DER for each speaker as a dictionary.\n",
        "    \"\"\"\n",
        "\n",
        "    # Convert time durations to seconds\n",
        "    diarization_output = [(time_to_seconds(start), time_to_seconds(end), speaker) for start, end, speaker in diarization_output]\n",
        "    ground_truth = [(time_to_seconds(start), time_to_seconds(end), speaker) for start, end, speaker in ground_truth]\n",
        "\n",
        "    # Sort the diarization output and ground truth by start time\n",
        "    diarization_output.sort(key=lambda x: x[0])\n",
        "    ground_truth.sort(key=lambda x: x[0])\n",
        "\n",
        "    total_ref_speaker_segments = len(ground_truth)\n",
        "    total_hyp_speaker_segments = len(diarization_output)\n",
        "\n",
        "    # Initialize variables to count errors for each speaker\n",
        "    speaker_errors = {}\n",
        "    diarization_errors = 0\n",
        "    insertion_errors = 0\n",
        "\n",
        "    # Initialize pointers for diarization output and ground truth\n",
        "    d_ptr = 0\n",
        "    gt_ptr = 0\n",
        "\n",
        "    # Process the segments\n",
        "    while d_ptr < total_hyp_speaker_segments and gt_ptr < total_ref_speaker_segments:\n",
        "        d_seg = diarization_output[d_ptr]\n",
        "        gt_seg = ground_truth[gt_ptr]\n",
        "\n",
        "        d_start, d_end, d_speaker = d_seg\n",
        "        gt_start, gt_end, gt_speaker = gt_seg\n",
        "\n",
        "        # Check for overlap\n",
        "        overlap_start = max(d_start, gt_start)\n",
        "        overlap_end = min(d_end, gt_end)\n",
        "\n",
        "        # Calculate overlap duration\n",
        "        overlap_duration = max(0, overlap_end - overlap_start)\n",
        "\n",
        "        # Calculate error counts\n",
        "        if d_speaker != gt_speaker:\n",
        "            if d_speaker not in speaker_errors:\n",
        "                speaker_errors[d_speaker] = {\"speaker_errors\": 0, \"diarization_errors\": 0}\n",
        "            speaker_errors[d_speaker][\"speaker_errors\"] += 1\n",
        "\n",
        "        if overlap_duration == 0:\n",
        "            insertion_errors += 1\n",
        "        elif d_start != gt_start or d_end != gt_end:\n",
        "            diarization_errors += 1\n",
        "\n",
        "        # Move pointers\n",
        "        if d_end == gt_end:\n",
        "            gt_ptr += 1\n",
        "        if d_end == d_seg[1]:\n",
        "            d_ptr += 1\n",
        "\n",
        "    # Calculate DER for each speaker\n",
        "    der_speakers = {}\n",
        "    for speaker, errors in speaker_errors.items():\n",
        "        total_ref_speaker_segments = len([seg for seg in ground_truth if seg[2] == speaker])\n",
        "        der_speaker = (errors[\"speaker_errors\"] + errors[\"diarization_errors\"]) / total_ref_speaker_segments * 100\n",
        "        der_speakers[speaker] = der_speaker\n",
        "\n",
        "    # Calculate DER (average over all speakers)\n",
        "    total_errors = sum((errors[\"speaker_errors\"] + errors[\"diarization_errors\"] for errors in speaker_errors.values()))\n",
        "    der = (total_errors + diarization_errors + insertion_errors) / total_ref_speaker_segments * 100\n",
        "\n",
        "    return der, der_speakers\n",
        "\n",
        "# Example usage:\n",
        "diarization_output = [\n",
        "    (\"00:00:05.695\", \"00:00:10.678\", \"Speaker_A\"),\n",
        "    (\"00:00:10.678\", \"00:00:20.456\", \"Speaker_A\"),\n",
        "    (\"00:00:20.456\", \"00:00:30.123\", \"Speaker_B\"),\n",
        "    (\"00:00:30.123\", \"00:00:40.987\", \"Speaker_B\"),\n",
        "    (\"00:00:40.987\", \"00:00:50.789\", \"Speaker_C\"),\n",
        "]\n",
        "\n",
        "ground_truth = [\n",
        "    (\"00:00:05.695\", \"00:00:10.678\", \"Speaker_A\"),\n",
        "    (\"00:00:10.678\", \"00:00:20.456\", \"Speaker_A\"),\n",
        "    (\"00:00:20.456\", \"00:00:30.123\", \"Speaker_B\"),\n",
        "    (\"00:00:30.123\", \"00:00:40.987\", \"Speaker_B\"),\n",
        "    (\"00:00:40.987\", \"00:00:50.789\", \"Speaker_C\"),\n",
        "]\n",
        "\n",
        "der, der_speakers = calculate_der(diarization_output, ground_truth)\n",
        "print(f\"DER: {der:.2f}%\")\n",
        "print(\"DER for each speaker:\")\n",
        "for speaker, der_speaker in der_speakers.items():\n",
        "    print(f\"Speaker {speaker}: {der_speaker:.2f}%\")\n"
      ],
      "metadata": {
        "colab": {
          "base_uri": "https://localhost:8080/"
        },
        "id": "SwC0znWp2bEu",
        "outputId": "019de823-1ab5-4ca4-d4d9-c46c4c8f2da0"
      },
      "execution_count": 8,
      "outputs": [
        {
          "output_type": "stream",
          "name": "stdout",
          "text": [
            "DER: 0.00%\n",
            "DER for each speaker:\n"
          ]
        }
      ]
    }
  ]
}